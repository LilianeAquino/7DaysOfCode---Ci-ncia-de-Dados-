{
 "cells": [
  {
   "cell_type": "markdown",
   "id": "dd55a067",
   "metadata": {},
   "source": [
    "# Desafio 1: Base de dados CEAPS\n",
    "\n",
    "<p style='text-align: justify'><font size=2.>CEAPS (cotas para exercício da atividade parlamentar dos senadores) é o valor que os membros do Poder Legislativo (deputados federais e estaduais, senadores e vereadores) têm direito a receber para cobrir despesas em função da sua atividade como parlamentar. Seu valor varia de acordo com o Estado do congressista com base na distância para Brasília. Ela é dividida em 7 cifras, que vão desde o aluguel de imóveis para escritório político a gastos com alimentação, combustível, passagens, hospedagem e divulgação da atividade parlamentar.</font></p>"
   ]
  },
  {
   "cell_type": "markdown",
   "id": "223d87b7",
   "metadata": {
    "lang": "en"
   },
   "source": [
    "### Dicionário dos dados"
   ]
  },
  {
   "cell_type": "markdown",
   "id": "369cdbdb",
   "metadata": {},
   "source": [
    "| Atributo | Significado |\n",
    "| --- | --- |\n",
    "| Ano | referente ao ano em que foi solicitado o reembolso do gasto |\n",
    "| Mês | referente ao mês em que foi solicitado o reembolso do gasto |\n",
    "| Senador| nome do Senador |\n",
    "| tipo_despesa | tipo de gasto efetuado |\n",
    "| CNPJ_CPF | CNPJ ou CPF da empresa/prestador do serviço |\n",
    "| fornecedor | nome da empresa/prestador do serviço |\n",
    "| documento | número do documento |\n",
    "| data | data da despesa |\n",
    "| detalhamento | detalhamento do gasto |\n",
    "| valor_reembolsado | valor reembolsado ao Senador |\n",
    "| cod_documento | código do documento |"
   ]
  },
  {
   "cell_type": "markdown",
   "id": "c7d40eca",
   "metadata": {},
   "source": [
    "### Bibiotecas básicas e outros importes"
   ]
  },
  {
   "cell_type": "code",
   "execution_count": 1,
   "id": "5158bb6f",
   "metadata": {
    "ExecuteTime": {
     "end_time": "2022-04-24T13:55:37.914870Z",
     "start_time": "2022-04-24T13:55:37.089532Z"
    }
   },
   "outputs": [],
   "source": [
    "import glob\n",
    "import chardet\n",
    "import warnings\n",
    "import numpy as np\n",
    "import pandas as pd\n",
    "import seaborn as sns\n",
    "import matplotlib\n",
    "import matplotlib.pyplot as plt\n",
    "\n",
    "%matplotlib inline\n",
    "plt.rcParams['font.family'] = 'Arial, Helvetica, sans-serif'\n",
    "\n",
    "warnings.filterwarnings('ignore')\n",
    "pd.set_option('display.max_rows', 1000)\n",
    "pd.set_option('display.max_columns', 200)\n",
    "np.set_printoptions(suppress=True, precision=3)"
   ]
  },
  {
   "cell_type": "markdown",
   "id": "bcffed33",
   "metadata": {},
   "source": [
    "### Concatenação das bases de 2018 a 2022\n",
    "\n",
    "> Verifica a codificação da planilha e em seguinda realiza a concatenação"
   ]
  },
  {
   "cell_type": "code",
   "execution_count": 2,
   "id": "3e8ff476",
   "metadata": {
    "ExecuteTime": {
     "end_time": "2022-04-24T13:55:37.918730Z",
     "start_time": "2022-04-24T13:55:37.916656Z"
    }
   },
   "outputs": [],
   "source": [
    "path = r'data/'\n",
    "all_files = glob.glob(path + '/*.csv')\n",
    "li = []\n",
    "\n",
    "for filename in all_files:    \n",
    "    with open(filename, 'rb') as f:\n",
    "        result = chardet.detect(f.read())        \n",
    "    df = pd.read_csv(filename, low_memory=False, sep=';', header=1, encoding=result['encoding'])\n",
    "    li.append(df)\n",
    "frame = pd.concat(li, axis=0, ignore_index=True)\n",
    "frame.to_csv('data/despesa_ceaps_2018_2022.csv', index=False)"
   ]
  },
  {
   "cell_type": "markdown",
   "id": "958be9e9",
   "metadata": {},
   "source": [
    "### Carregamento dos dados"
   ]
  },
  {
   "cell_type": "code",
   "execution_count": 3,
   "id": "7643494c",
   "metadata": {
    "ExecuteTime": {
     "end_time": "2022-04-24T13:55:38.195817Z",
     "start_time": "2022-04-24T13:55:37.919728Z"
    }
   },
   "outputs": [
    {
     "name": "stdout",
     "output_type": "stream",
     "text": [
      "Linhas: 81179 | Colunas: 11\n"
     ]
    },
    {
     "data": {
      "text/html": [
       "<div>\n",
       "<style scoped>\n",
       "    .dataframe tbody tr th:only-of-type {\n",
       "        vertical-align: middle;\n",
       "    }\n",
       "\n",
       "    .dataframe tbody tr th {\n",
       "        vertical-align: top;\n",
       "    }\n",
       "\n",
       "    .dataframe thead th {\n",
       "        text-align: right;\n",
       "    }\n",
       "</style>\n",
       "<table border=\"1\" class=\"dataframe\">\n",
       "  <thead>\n",
       "    <tr style=\"text-align: right;\">\n",
       "      <th></th>\n",
       "      <th>ANO</th>\n",
       "      <th>MES</th>\n",
       "      <th>SENADOR</th>\n",
       "      <th>TIPO_DESPESA</th>\n",
       "      <th>CNPJ_CPF</th>\n",
       "      <th>FORNECEDOR</th>\n",
       "      <th>DOCUMENTO</th>\n",
       "      <th>DATA</th>\n",
       "      <th>DETALHAMENTO</th>\n",
       "      <th>VALOR_REEMBOLSADO</th>\n",
       "      <th>COD_DOCUMENTO</th>\n",
       "    </tr>\n",
       "  </thead>\n",
       "  <tbody>\n",
       "    <tr>\n",
       "      <th>0</th>\n",
       "      <td>2020</td>\n",
       "      <td>1</td>\n",
       "      <td>ACIR GURGACZ</td>\n",
       "      <td>Aluguel de imóveis para escritório político, c...</td>\n",
       "      <td>05.914.650/0001-66</td>\n",
       "      <td>ENERGISA</td>\n",
       "      <td>14764742</td>\n",
       "      <td>06/01/2020</td>\n",
       "      <td>Despesa com energia elétrica para uso do escri...</td>\n",
       "      <td>122,62</td>\n",
       "      <td>2141820</td>\n",
       "    </tr>\n",
       "    <tr>\n",
       "      <th>1</th>\n",
       "      <td>2020</td>\n",
       "      <td>1</td>\n",
       "      <td>ACIR GURGACZ</td>\n",
       "      <td>Aluguel de imóveis para escritório político, c...</td>\n",
       "      <td>05.914.650/0001-66</td>\n",
       "      <td>ENERGISA</td>\n",
       "      <td>14764741</td>\n",
       "      <td>06/01/2020</td>\n",
       "      <td>Despesa com energia elétrica para uso do escri...</td>\n",
       "      <td>137,75</td>\n",
       "      <td>2141818</td>\n",
       "    </tr>\n",
       "  </tbody>\n",
       "</table>\n",
       "</div>"
      ],
      "text/plain": [
       "    ANO  MES       SENADOR                                       TIPO_DESPESA  \\\n",
       "0  2020    1  ACIR GURGACZ  Aluguel de imóveis para escritório político, c...   \n",
       "1  2020    1  ACIR GURGACZ  Aluguel de imóveis para escritório político, c...   \n",
       "\n",
       "             CNPJ_CPF FORNECEDOR DOCUMENTO        DATA  \\\n",
       "0  05.914.650/0001-66   ENERGISA  14764742  06/01/2020   \n",
       "1  05.914.650/0001-66   ENERGISA  14764741  06/01/2020   \n",
       "\n",
       "                                        DETALHAMENTO VALOR_REEMBOLSADO  \\\n",
       "0  Despesa com energia elétrica para uso do escri...            122,62   \n",
       "1  Despesa com energia elétrica para uso do escri...            137,75   \n",
       "\n",
       "   COD_DOCUMENTO  \n",
       "0        2141820  \n",
       "1        2141818  "
      ]
     },
     "execution_count": 3,
     "metadata": {},
     "output_type": "execute_result"
    }
   ],
   "source": [
    "despesas = pd.read_csv('data/despesa_ceaps_2018_2022.csv')\n",
    "print(f'Linhas: {despesas.shape[0]} | Colunas: {despesas.shape[1]}')\n",
    "despesas.head(2)"
   ]
  },
  {
   "cell_type": "markdown",
   "id": "98ff57aa",
   "metadata": {
    "lang": "fr"
   },
   "source": [
    "### Informações dos dados"
   ]
  },
  {
   "cell_type": "code",
   "execution_count": 4,
   "id": "9b8b58f5",
   "metadata": {
    "ExecuteTime": {
     "end_time": "2022-04-24T13:55:38.230978Z",
     "start_time": "2022-04-24T13:55:38.197064Z"
    }
   },
   "outputs": [
    {
     "name": "stdout",
     "output_type": "stream",
     "text": [
      "<class 'pandas.core.frame.DataFrame'>\n",
      "RangeIndex: 81179 entries, 0 to 81178\n",
      "Data columns (total 11 columns):\n",
      " #   Column             Non-Null Count  Dtype \n",
      "---  ------             --------------  ----- \n",
      " 0   ANO                81179 non-null  int64 \n",
      " 1   MES                81179 non-null  int64 \n",
      " 2   SENADOR            81179 non-null  object\n",
      " 3   TIPO_DESPESA       81179 non-null  object\n",
      " 4   CNPJ_CPF           81179 non-null  object\n",
      " 5   FORNECEDOR         81179 non-null  object\n",
      " 6   DOCUMENTO          77925 non-null  object\n",
      " 7   DATA               81179 non-null  object\n",
      " 8   DETALHAMENTO       50509 non-null  object\n",
      " 9   VALOR_REEMBOLSADO  81179 non-null  object\n",
      " 10  COD_DOCUMENTO      81179 non-null  int64 \n",
      "dtypes: int64(3), object(8)\n",
      "memory usage: 6.8+ MB\n"
     ]
    }
   ],
   "source": [
    "despesas.info()"
   ]
  },
  {
   "cell_type": "markdown",
   "id": "6537c23f",
   "metadata": {},
   "source": [
    "### Seleção de recursos\n",
    "\n",
    "> Remove a coluna documento porque já temos a coluna com o código do documento que não possui valores nulos."
   ]
  },
  {
   "cell_type": "code",
   "execution_count": 5,
   "id": "5b1224c7",
   "metadata": {
    "ExecuteTime": {
     "end_time": "2022-04-24T13:55:38.240912Z",
     "start_time": "2022-04-24T13:55:38.232201Z"
    }
   },
   "outputs": [],
   "source": [
    "despesas.drop(['DOCUMENTO'], axis=1, inplace=True)"
   ]
  },
  {
   "cell_type": "markdown",
   "id": "1d469904",
   "metadata": {
    "lang": "en"
   },
   "source": [
    "### Remoção registros nulos"
   ]
  },
  {
   "cell_type": "code",
   "execution_count": 6,
   "id": "4feb6d7e",
   "metadata": {
    "ExecuteTime": {
     "end_time": "2022-04-24T13:55:38.319300Z",
     "start_time": "2022-04-24T13:55:38.242382Z"
    }
   },
   "outputs": [
    {
     "name": "stdout",
     "output_type": "stream",
     "text": [
      "Porcentagem de dados ausentes antes da remoção:  30670\n",
      "Linhas: 50509 | Coluna:  10\n",
      "Porcentagem de dados ausentes depois da remoção:  0\n"
     ]
    }
   ],
   "source": [
    "print('Porcentagem de dados ausentes antes da remoção: ', despesas.isnull().sum().sum())\n",
    "despesas.dropna(inplace=True)\n",
    "print(f'Linhas: {despesas.shape[0]} | Coluna:  {despesas.shape[1]}')\n",
    "print('Porcentagem de dados ausentes depois da remoção: ', despesas.isnull().sum().sum())\n",
    "despesas.reset_index(drop=True, inplace=True)"
   ]
  },
  {
   "cell_type": "markdown",
   "id": "713d17de",
   "metadata": {},
   "source": [
    "### Conversão coluna data"
   ]
  },
  {
   "cell_type": "code",
   "execution_count": 7,
   "id": "51d83fab",
   "metadata": {
    "ExecuteTime": {
     "end_time": "2022-04-24T13:55:38.339742Z",
     "start_time": "2022-04-24T13:55:38.320543Z"
    }
   },
   "outputs": [
    {
     "data": {
      "text/plain": [
       "pandas._libs.tslibs.timestamps.Timestamp"
      ]
     },
     "execution_count": 7,
     "metadata": {},
     "output_type": "execute_result"
    }
   ],
   "source": [
    "despesas['DATA'] = pd.to_datetime(despesas['DATA'], errors='coerce')\n",
    "type(despesas['DATA'][0])"
   ]
  }
 ],
 "metadata": {
  "hide_input": false,
  "kernelspec": {
   "display_name": "Python 3 (ipykernel)",
   "language": "python",
   "name": "python3"
  },
  "language_info": {
   "codemirror_mode": {
    "name": "ipython",
    "version": 3
   },
   "file_extension": ".py",
   "mimetype": "text/x-python",
   "name": "python",
   "nbconvert_exporter": "python",
   "pygments_lexer": "ipython3",
   "version": "3.7.9"
  },
  "nbTranslate": {
   "displayLangs": [
    "*"
   ],
   "hotkey": "alt-t",
   "langInMainMenu": true,
   "sourceLang": "en",
   "targetLang": "fr",
   "useGoogleTranslate": true
  },
  "toc": {
   "base_numbering": 1,
   "nav_menu": {},
   "number_sections": true,
   "sideBar": true,
   "skip_h1_title": false,
   "title_cell": "Table of Contents",
   "title_sidebar": "Contents",
   "toc_cell": false,
   "toc_position": {},
   "toc_section_display": true,
   "toc_window_display": false
  },
  "varInspector": {
   "cols": {
    "lenName": 16,
    "lenType": 16,
    "lenVar": 40
   },
   "kernels_config": {
    "python": {
     "delete_cmd_postfix": "",
     "delete_cmd_prefix": "del ",
     "library": "var_list.py",
     "varRefreshCmd": "print(var_dic_list())"
    },
    "r": {
     "delete_cmd_postfix": ") ",
     "delete_cmd_prefix": "rm(",
     "library": "var_list.r",
     "varRefreshCmd": "cat(var_dic_list()) "
    }
   },
   "types_to_exclude": [
    "module",
    "function",
    "builtin_function_or_method",
    "instance",
    "_Feature"
   ],
   "window_display": false
  }
 },
 "nbformat": 4,
 "nbformat_minor": 5
}
